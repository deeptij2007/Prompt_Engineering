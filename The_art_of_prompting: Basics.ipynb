{
 "cells": [
  {
   "cell_type": "markdown",
   "metadata": {},
   "source": [
    "#### Load Environment variables"
   ]
  },
  {
   "cell_type": "code",
   "execution_count": 1,
   "metadata": {},
   "outputs": [],
   "source": [
    "import openai\n",
    "import os\n",
    "import IPython\n",
    "from langchain.llms import OpenAI\n",
    "from dotenv import load_dotenv\n",
    "from utils import set_openai_params, get_response"
   ]
  },
  {
   "cell_type": "code",
   "execution_count": 2,
   "metadata": {},
   "outputs": [],
   "source": [
    "load_dotenv()\n",
    "import os\n",
    "openai_api_key = os.getenv(\"OPENAI_API_KEY\")\n",
    "\n",
    "os.environ[\"OPENAI_API_KEY\"] = os.getenv(\"OPENAI_API_KEY\")\n",
    "os.environ[\"PINECONE_API_KEY\"] = os.getenv(\"PINECONE_API_KEY\")"
   ]
  },
  {
   "cell_type": "markdown",
   "metadata": {},
   "source": [
    "#### Basic prompt"
   ]
  },
  {
   "cell_type": "code",
   "execution_count": 3,
   "metadata": {},
   "outputs": [
    {
     "data": {
      "text/markdown": [
       " blue\n",
       "\n",
       "The sky is blue because of the way the atmosphere scatters sunlight. When sunlight passes through the atmosphere, the blue wavelengths are scattered more than the other colors, making the sky appear blue."
      ],
      "text/plain": [
       "<IPython.core.display.Markdown object>"
      ]
     },
     "execution_count": 3,
     "metadata": {},
     "output_type": "execute_result"
    }
   ],
   "source": [
    "params=set_openai_params()\n",
    "prompt=\"The sky is\"\n",
    "response=get_response(params, prompt)\n",
    "IPython.display.Markdown(response.choices[0].text)"
   ]
  },
  {
   "cell_type": "code",
   "execution_count": 6,
   "metadata": {},
   "outputs": [
    {
     "data": {
      "text/markdown": [
       " clear\n",
       "\n",
       "The sky is clear today, and you can see the stars shining brightly. The air is fresh and the sun is shining. What a beautiful day!"
      ],
      "text/plain": [
       "<IPython.core.display.Markdown object>"
      ]
     },
     "execution_count": 6,
     "metadata": {},
     "output_type": "execute_result"
    }
   ],
   "source": [
    "params=set_openai_params(temperature=1)\n",
    "\n",
    "prompt=\"The sky is\"\n",
    "response=get_response(params, prompt)\n",
    "IPython.display.Markdown(response.choices[0].text)"
   ]
  },
  {
   "cell_type": "markdown",
   "metadata": {},
   "source": [
    "#### Text Summarization"
   ]
  },
  {
   "cell_type": "code",
   "execution_count": 7,
   "metadata": {},
   "outputs": [
    {
     "data": {
      "text/markdown": [
       "\n",
       "Antibiotics are medications used to treat bacterial infections by killing or inhibiting the growth of bacteria, but are not effective against viral infections and can lead to antibiotic resistance if used inappropriately."
      ],
      "text/plain": [
       "<IPython.core.display.Markdown object>"
      ]
     },
     "execution_count": 7,
     "metadata": {},
     "output_type": "execute_result"
    }
   ],
   "source": [
    "params=set_openai_params(temperature=0.7)\n",
    "\n",
    "prompt=\"Antibiotics are a type of medication used to treat bacterial infections. They work by either killing the bacteria or preventing them from reproducing, \\\n",
    "    allowing the body's immune system to fight off the infection. Antibiotics are usually taken orally in the form of pills, capsules, or liquid solutions, \\\n",
    "        or sometimes administered intravenously. They are not effective against viral infections, and using them inappropriately can lead to antibiotic resistance. \\\n",
    "            Explain the above in one sentence:\"\n",
    "response=get_response(params, prompt)\n",
    "IPython.display.Markdown(response.choices[0].text)"
   ]
  },
  {
   "cell_type": "code",
   "execution_count": 9,
   "metadata": {},
   "outputs": [
    {
     "data": {
      "text/markdown": [
       " \n",
       "\n",
       "Antibiotics are like a special medicine that can help your body get better when you have a bacterial infection. They help your body fight off the bad bacteria that are making you sick. They come in the form of pills, capsules, or liquid that you take by mouth or sometimes through an injection. They won't help if you have a virus, and if you use them too much, the bad bacteria can become stronger and harder to get rid of."
      ],
      "text/plain": [
       "<IPython.core.display.Markdown object>"
      ]
     },
     "execution_count": 9,
     "metadata": {},
     "output_type": "execute_result"
    }
   ],
   "source": [
    "params=set_openai_params(temperature=0.7)\n",
    "\n",
    "prompt=\"Antibiotics are a type of medication used to treat bacterial infections. They work by either killing the bacteria or preventing them from reproducing, \\\n",
    "    allowing the body's immune system to fight off the infection. Antibiotics are usually taken orally in the form of pills, capsules, or liquid solutions, \\\n",
    "        or sometimes administered intravenously. They are not effective against viral infections, and using them inappropriately can lead to antibiotic resistance. \\\n",
    "            Explain the above to a 5 year old:\"\n",
    "response=get_response(params, prompt)\n",
    "IPython.display.Markdown(response.choices[0].text)"
   ]
  },
  {
   "cell_type": "markdown",
   "metadata": {},
   "source": [
    "#### Question Answering"
   ]
  },
  {
   "cell_type": "code",
   "execution_count": 10,
   "metadata": {},
   "outputs": [
    {
     "data": {
      "text/markdown": [
       " Mice"
      ],
      "text/plain": [
       "<IPython.core.display.Markdown object>"
      ]
     },
     "execution_count": 10,
     "metadata": {},
     "output_type": "execute_result"
    }
   ],
   "source": [
    "prompt = \"\"\"Answer the question based on the context below. Keep the answer short and concise. Respond \"Unsure about answer\" if not sure about the answer.\n",
    "\n",
    "Context: Teplizumab traces its roots to a New Jersey drug company called Ortho Pharmaceutical. There, scientists generated an early version of the antibody, dubbed OKT3. \\\n",
    "Originally sourced from mice, the molecule was able to bind to the surface of T cells and limit their cell-killing potential. In 1986, it was approved to help prevent organ \\\n",
    "rejection after kidney transplants, making it the first therapeutic antibody allowed for human use.\n",
    "\n",
    "Question: What was OKT3 originally sourced from? Answer only if you are sure about the answer.\n",
    "\n",
    "Answer:\"\"\"\n",
    "response=get_response(params,prompt)\n",
    "IPython.display.Markdown(response.choices[0].text)"
   ]
  },
  {
   "cell_type": "markdown",
   "metadata": {},
   "source": [
    "#### Text Classification"
   ]
  },
  {
   "cell_type": "code",
   "execution_count": 14,
   "metadata": {},
   "outputs": [
    {
     "data": {
      "text/markdown": [
       " Neutral.\n",
       "\n",
       "This text is neutral because it is neither positive nor negative. It acknowledges that the movie was better than its prequel, but also suggests that it could have been better. Therefore, it is neither praising nor criticizing the movie, but simply making an observation."
      ],
      "text/plain": [
       "<IPython.core.display.Markdown object>"
      ]
     },
     "execution_count": 14,
     "metadata": {},
     "output_type": "execute_result"
    }
   ],
   "source": [
    "prompt=\"\"\"Classify the text into positive, negative and neutral.Explain your answer.\\\n",
    "Text= The movie was better than its prequel, could have been better. \\\n",
    "Sentiment:\"\"\"\n",
    "response=get_response(set_openai_params(), prompt)\n",
    "IPython.display.Markdown(response.choices[0].text)"
   ]
  },
  {
   "cell_type": "markdown",
   "metadata": {},
   "source": [
    "#### Role Playing"
   ]
  },
  {
   "cell_type": "code",
   "execution_count": 16,
   "metadata": {},
   "outputs": [
    {
     "data": {
      "text/markdown": [
       "\n",
       "For someone who is 30 years old, there are a variety of health insurance coverage options available. Depending on your individual needs and budget, you may want to consider a high-deductible health plan, a health savings account, a short-term health plan, or a major medical plan. High-deductible health plans typically have lower premiums and higher deductibles, while health savings accounts allow you to save money for medical expenses on a tax-advantaged basis. Short-term health plans provide coverage for a limited period of time, while major medical plans provide comprehensive coverage for a longer period of time. It's important to compare the different plans to find the one that best meets your needs."
      ],
      "text/plain": [
       "<IPython.core.display.Markdown object>"
      ]
     },
     "execution_count": 16,
     "metadata": {},
     "output_type": "execute_result"
    }
   ],
   "source": [
    "prompt=\"\"\"\"The following is a conversation with a AI call center agent for a health insurance company. The agent is experienced with a professional tone. \\\n",
    "Client: Hi, I have a general question about health insurance\n",
    "Agent (AI): Hi, sure!! please go ahead\n",
    "Client: I am 30 years old, Which health insurance coneverages would be suitable for me? Please elaborate your answer.\n",
    "Agent (AI):\n",
    "\"\"\"\n",
    "response=get_response(set_openai_params(), prompt)\n",
    "IPython.display.Markdown(response.choices[0].text)"
   ]
  },
  {
   "cell_type": "code",
   "execution_count": 17,
   "metadata": {},
   "outputs": [
    {
     "data": {
      "text/markdown": [
       "\n",
       "Based on your age, I would recommend looking into a high-deductible health plan. These plans typically have lower premiums and higher deductibles, which can be beneficial for young, healthy individuals. Additionally, you may want to consider a health savings account (HSA) to help cover out-of-pocket costs. I hope this helps!"
      ],
      "text/plain": [
       "<IPython.core.display.Markdown object>"
      ]
     },
     "execution_count": 17,
     "metadata": {},
     "output_type": "execute_result"
    }
   ],
   "source": [
    "prompt=\"\"\"\"The following is a conversation with a AI call center agent for a health insurance company. The agent is experienced with a professional tone. \\\n",
    "Client: Hi, I have a general question about health insurance\n",
    "Agent (AI): Hi, sure!! please go ahead\n",
    "Client: I am 30 years old, Which health insurance coneverages would be suitable for me? Please keep your reply concise and specific.\n",
    "Agent (AI):\n",
    "\"\"\"\n",
    "response=get_response(set_openai_params(), prompt)\n",
    "IPython.display.Markdown(response.choices[0].text)"
   ]
  },
  {
   "cell_type": "markdown",
   "metadata": {},
   "source": [
    "#### Code generation\n"
   ]
  },
  {
   "cell_type": "code",
   "execution_count": 20,
   "metadata": {},
   "outputs": [
    {
     "data": {
      "text/markdown": [
       "\n",
       "#import pandas library\n",
       "import pandas as pd\n",
       "\n",
       "#create a dictionary\n",
       "dict = {'Name':['John', 'Bob', 'Mary'], 'Age':[20, 30, 25]}\n",
       "\n",
       "#convert the dictionary to a dataframe\n",
       "df = pd.DataFrame(dict)\n",
       "\n",
       "#print the dataframe\n",
       "print(df)\n",
       "\n",
       "The first step is to import the pandas library which provides the necessary functions to convert a dictionary to a dataframe. The second step is to create a dictionary with the desired data. The third step is to convert the dictionary to a dataframe using the pandas DataFrame() function. Finally, the dataframe can be printed using the print() function."
      ],
      "text/plain": [
       "<IPython.core.display.Markdown object>"
      ]
     },
     "execution_count": 20,
     "metadata": {},
     "output_type": "execute_result"
    }
   ],
   "source": [
    "prompt=\"\"\"\"Write a code snippet in python that takes a dictionar as input and converts it to a dataframe. Explain each step\n",
    "\"\"\"\n",
    "response=get_response(set_openai_params(), prompt)\n",
    "IPython.display.Markdown(response.choices[0].text)"
   ]
  },
  {
   "cell_type": "code",
   "execution_count": 42,
   "metadata": {},
   "outputs": [
    {
     "data": {
      "text/markdown": [
       "\n",
       "SELECT Student.StudentId, Student.StudentName \n",
       "FROM Student \n",
       "INNER JOIN Subject ON Student.SubjectId = Subject.SubjectId \n",
       "WHERE Subject.SubjectName = 'English';"
      ],
      "text/plain": [
       "<IPython.core.display.Markdown object>"
      ]
     },
     "execution_count": 42,
     "metadata": {},
     "output_type": "execute_result"
    }
   ],
   "source": [
    "prompt=\"\"\"\"\n",
    "Table Subject, columns = [SubjectId, SubjectName]\n",
    "Table Student, columns = [SubjectId, StudentId, StudentName]\n",
    "Create a MySQL query for all students in the english class\n",
    "\"\"\"\n",
    "\n",
    "response=get_response(set_openai_params(), prompt)\n",
    "IPython.display.Markdown(response.choices[0].text)\n",
    "\n"
   ]
  },
  {
   "cell_type": "markdown",
   "metadata": {},
   "source": [
    "#### Reasoning"
   ]
  },
  {
   "cell_type": "code",
   "execution_count": 21,
   "metadata": {},
   "outputs": [
    {
     "data": {
      "text/markdown": [
       "\n",
       "Step 1: Count the number of blue balls that were in the box.\n",
       "\n",
       "Answer: 8 blue balls\n",
       "\n",
       "Step 2: Count the number of red balls that were in the box.\n",
       "\n",
       "Answer: 5 red balls\n",
       "\n",
       "Step 3: Subtract the number of blue and red balls that fell out of the box from the total number of balls in the box.\n",
       "\n",
       "Answer: 8 blue balls - 2 blue balls = 6 blue balls\n",
       "5 red balls - 2 red balls = 3 red balls\n",
       "\n",
       "Step 4: Add the remaining number of blue and red balls together.\n",
       "\n",
       "Answer: 6 blue balls + 3 red balls = 9 balls"
      ],
      "text/plain": [
       "<IPython.core.display.Markdown object>"
      ]
     },
     "execution_count": 21,
     "metadata": {},
     "output_type": "execute_result"
    }
   ],
   "source": [
    "prompt=\"\"\"\"There are 8 blue balls and 5 red balls in a box. 2 blue and 2 red balls fell out of the box. How many balls are inside the box? \\\n",
    "lets do it step by step\n",
    "\"\"\"\n",
    "response=get_response(set_openai_params(), prompt)\n",
    "IPython.display.Markdown(response.choices[0].text)"
   ]
  },
  {
   "cell_type": "code",
   "execution_count": 24,
   "metadata": {},
   "outputs": [
    {
     "data": {
      "text/markdown": [
       "\n",
       "Step 1: Identify all odd numbers in the list: 15, 49, 45\n",
       "\n",
       "Step 2: Identify all multiples of 7 in the list: 49, 56, 78, 92\n",
       "\n",
       "Step 3: Identify all odd numbers that are multiples of 7: 49"
      ],
      "text/plain": [
       "<IPython.core.display.Markdown object>"
      ]
     },
     "execution_count": 24,
     "metadata": {},
     "output_type": "execute_result"
    }
   ],
   "source": [
    "prompt=\"\"\"Find all odd numbers in the list that are multiples of 7: 15, 32, 49, 56, 78, 100, 45, 92. \\\n",
    "Lets do it step by step\n",
    "\"\"\"\n",
    "response=get_response(set_openai_params(), prompt)\n",
    "IPython.display.Markdown(response.choices[0].text)"
   ]
  },
  {
   "cell_type": "code",
   "execution_count": 39,
   "metadata": {},
   "outputs": [
    {
     "data": {
      "text/markdown": [
       "\n",
       "\n",
       "Odd numbers in the group: 15, 49, 45, 3, 1\n",
       "Sum of odd numbers: 113\n",
       "113 is not divisible by 2, so the answer is no."
      ],
      "text/plain": [
       "<IPython.core.display.Markdown object>"
      ]
     },
     "execution_count": 39,
     "metadata": {},
     "output_type": "execute_result"
    }
   ],
   "source": [
    "prompt=\"\"\"Do the odd numbers in the group add up to an even number: 15, 32, 49, 56, 78, 100, 45, 92, 3,1. \\\n",
    "Lets do it step by step: \n",
    "    1. Identify all odd numbers in the group. \n",
    "    2. Sum the numbers found in step 1.\n",
    "    3. If the sum is divisible by 2, the answer is yes. Otherwise, the answer is no. \\\n",
    "\"\"\"\n",
    "response=get_response(set_openai_params(), prompt)\n",
    "IPython.display.Markdown(response.choices[0].text)"
   ]
  },
  {
   "cell_type": "markdown",
   "metadata": {},
   "source": []
  }
 ],
 "metadata": {
  "kernelspec": {
   "display_name": "learning",
   "language": "python",
   "name": "python3"
  },
  "language_info": {
   "codemirror_mode": {
    "name": "ipython",
    "version": 3
   },
   "file_extension": ".py",
   "mimetype": "text/x-python",
   "name": "python",
   "nbconvert_exporter": "python",
   "pygments_lexer": "ipython3",
   "version": "3.8.18"
  }
 },
 "nbformat": 4,
 "nbformat_minor": 2
}
